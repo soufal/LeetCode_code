{
 "cells": [
  {
   "cell_type": "code",
   "execution_count": 2,
   "metadata": {},
   "outputs": [],
   "source": [
    "# 利用遍历的思想给出二叉树的前序遍历结果\n",
    "\n",
    "res = []\n",
    "\n",
    "class TreeNode():\n",
    "    def __init__(self, val, root, left, right) -> None:\n",
    "        self.val = val\n",
    "        self.left = left\n",
    "        self.right = right\n",
    "\n",
    "def preorder_traverse(root):\n",
    "    traverse(root)\n",
    "    return res\n",
    "\n",
    "def traverse(root):\n",
    "    if(root == None):\n",
    "        return\n",
    "    # 前序位置\n",
    "    res.add(root.val)\n",
    "    traverse(root.left)\n",
    "    traverse(root.right)\n"
   ]
  },
  {
   "cell_type": "code",
   "execution_count": 4,
   "metadata": {},
   "outputs": [],
   "source": [
    "class TreeNode():\n",
    "    def __init__(self, val, root, left, right) -> None:\n",
    "        self.val = val\n",
    "        self.left = left\n",
    "        self.right = right\n",
    "\n",
    "def preorder_traverse(root):\n",
    "    res = []\n",
    "    if(root==None):\n",
    "        return res\n",
    "    # 前序遍历的结果，root.val在第一个\n",
    "    res.add(root.val)\n",
    "    # 利用函数定义，后面接着左子树的前序遍历结果\n",
    "    res.extend(preorder_traverse(root.left))\n",
    "    res.extend(preorder_traverse(root.right))\n",
    "\n",
    "    return res"
   ]
  },
  {
   "cell_type": "markdown",
   "metadata": {},
   "source": [
    "遇到一道二叉树题目的通用思考过程：\n",
    "1. 是否可以通过遍历一遍二叉树得到答案？如果可以，用一个`traverse`函数配合外部变量实现。\n",
    "2. 是否可以定义一个递归函数，通过子问题（子树）的答案推导出原问题的答案？如果可以，写出这个递归函数的定义，并充分利用这个函数的返回值。\n",
    "3. 无论使用哪一种思维模式，都要明白二叉树的每一个节点需要做什么，需要在什么时候（前中后序）做。"
   ]
  },
  {
   "cell_type": "markdown",
   "metadata": {},
   "source": [
    "##### 后序位置的特殊之处\n",
    "\n",
    "**中序位置主要用在BST场景中，可以吧BST的中序遍历认为是遍历有序数组。**\n",
    "\n",
    "> 前序位置的代码只能从函数参数中获取父节点传递来的数据，而后序位置的代码不仅可以获取参数数据，还可以获取到子树通过函数返回值传递回来的数据。"
   ]
  }
 ],
 "metadata": {
  "kernelspec": {
   "display_name": "Python 3.7.9",
   "language": "python",
   "name": "python3"
  },
  "language_info": {
   "codemirror_mode": {
    "name": "ipython",
    "version": 3
   },
   "file_extension": ".py",
   "mimetype": "text/x-python",
   "name": "python",
   "nbconvert_exporter": "python",
   "pygments_lexer": "ipython3",
   "version": "3.7.9"
  },
  "orig_nbformat": 4,
  "vscode": {
   "interpreter": {
    "hash": "d79f2636c632d1d318325b1eb175dc3663251986eeecc1027b3a7659ebd85e36"
   }
  }
 },
 "nbformat": 4,
 "nbformat_minor": 2
}
