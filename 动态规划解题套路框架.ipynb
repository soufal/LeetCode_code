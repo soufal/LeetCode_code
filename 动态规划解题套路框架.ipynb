{
 "cells": [
  {
   "cell_type": "markdown",
   "metadata": {},
   "source": [
    "**一般形式都是求最值**\n",
    "\n",
    "求解动态规划的核心问题：**穷举**。\n",
    "\n",
    "动态规划三要素：\n",
    "* 重叠子问题\n",
    "* 最优子结构\n",
    "* 状态转移方程--->最难\n",
    "\n",
    "> 明确base case--> 明确“状态”--> 明确“选择”--> 定义`dp`数组/函数的含义\n",
    "\n",
    "\n",
    "解法框架：\n",
    "\n",
    "```python\n",
    "# 自顶向下递归的动态规划\n",
    "def dp(状态1, 状态2,...):\n",
    "    for 选择 in 所有可能的选择:\n",
    "        #此时的状态已经因为做了选择而改变\n",
    "        result = 求最值(result, dp(状态1, 状态2, ...))\n",
    "    return result\n",
    "\n",
    "#自底向上迭代的动态规划\n",
    "#初始化base case\n",
    "dp[0][0][...] = base case\n",
    "#进行状态转移\n",
    "for 状态1 in 状态1的所有取值:\n",
    "    for 状态2 in 状态2的所有取值:\n",
    "        for ...\n",
    "            dp[状态1][状态2][...] = 求最值(选择1, 选择2, ...)\n",
    "```\n",
    "\n",
    "* **自顶向下**的解法：从上向下延伸，也就是将原问题逐渐分解成子问题，直到分解成base case，然后在逐层返回答案。---**递归**的思路。\n",
    "\n",
    "* **自底向上**的解法：从最底下，规模最小、已知结果的base case开始，往上推，直到推出原问题的答案。也就是**迭代（递推）**的思路。\n",
    "\n",
    "\n",
    "**状态转移方程**：也就是描述问题结构的数学形式。\n",
    "\n",
    "`f(n)`的函数参数会不断变化，可以把参数`n`当做一个状态，这个状态`n`是由状态`n-1`和状态`n-2`转移（相加）而来的，所以可以称为`状态转移`。"
   ]
  },
  {
   "cell_type": "code",
   "execution_count": null,
   "metadata": {},
   "outputs": [],
   "source": [
    "'''\n",
    "Author: Soufal\n",
    "Date: 2024-07-29 09:45:04\n",
    "Description: \n",
    "'''\n"
   ]
  }
 ],
 "metadata": {
  "kernelspec": {
   "display_name": "Python 3.7.3 64-bit ('anaconda3')",
   "language": "python",
   "name": "python3"
  },
  "language_info": {
   "name": "python",
   "version": "3.7.3"
  },
  "orig_nbformat": 4,
  "vscode": {
   "interpreter": {
    "hash": "4966f2686f0657cbb0f4ea9b441387dec616b016eec34c05c7f7f64bcdf9edbc"
   }
  }
 },
 "nbformat": 4,
 "nbformat_minor": 2
}
