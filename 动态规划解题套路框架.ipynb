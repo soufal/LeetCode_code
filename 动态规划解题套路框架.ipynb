{
 "cells": [
  {
   "cell_type": "markdown",
   "metadata": {},
   "source": [
    "**一般形式都是求最值**\n",
    "\n",
    "求解动态规划的核心问题：**穷举**。\n",
    "\n",
    "动态规划三要素：\n",
    "* 重叠子问题\n",
    "* 最优子结构\n",
    "* 状态转移方程--->最难\n",
    "\n",
    "> 明确base case--> 明确“状态”--> 明确“选择”--> 定义`dp`数组/函数的含义\n",
    "\n",
    "\n",
    "解法框架：\n",
    "\n",
    "```python\n",
    "# 自顶向下递归的动态规划\n",
    "def dp(状态1, 状态2,...):\n",
    "    for 选择 in 所有可能的选择:\n",
    "        #此时的状态已经因为做了选择而改变\n",
    "        result = 求最值(result, dp(状态1, 状态2, ...))\n",
    "    return result\n",
    "\n",
    "#自底向上迭代的动态规划\n",
    "#初始化base case\n",
    "dp[0][0][...] = base case\n",
    "#进行状态转移\n",
    "for 状态1 in 状态1的所有取值:\n",
    "    for 状态2 in 状态2的所有取值:\n",
    "        for ...\n",
    "            dp[状态1][状态2][...] = 求最值(选择1, 选择2, ...)\n",
    "```"
   ]
  },
  {
   "cell_type": "code",
   "execution_count": null,
   "metadata": {},
   "outputs": [],
   "source": [
    "'''\n",
    "Author: Soufal\n",
    "Date: 2024-07-29 09:45:04\n",
    "Description: \n",
    "'''\n"
   ]
  }
 ],
 "metadata": {
  "language_info": {
   "name": "python"
  },
  "orig_nbformat": 4
 },
 "nbformat": 4,
 "nbformat_minor": 2
}
