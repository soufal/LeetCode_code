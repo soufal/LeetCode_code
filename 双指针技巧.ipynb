{
 "cells": [
  {
   "cell_type": "markdown",
   "metadata": {},
   "source": [
    "#### 双指针技巧\n",
    "\n",
    "* 左右指针：两个指针相向而行或者相背而行。\n",
    "* 快慢指针：两个指针同向而行，一快一慢，步长不一样。\n"
   ]
  },
  {
   "cell_type": "markdown",
   "metadata": {},
   "source": [
    "##### 数组问题中的快慢指针技巧\n",
    "\n",
    "**原地修改数组。**\n",
    "\n"
   ]
  },
  {
   "cell_type": "markdown",
   "metadata": {},
   "source": [
    "滑动窗口算法核心框架\n",
    "\n",
    "```python\n",
    "def sliding_window(s, t):\n",
    "    window = {}\n",
    "    left, right = 0, 0\n",
    "    while(right < len(s)):\n",
    "        c = s[right]\n",
    "        #右移（增大）窗口\n",
    "        right += 1\n",
    "        # 进行窗口内数据的一系列更新\n",
    "        while(window needs shrink):\n",
    "            d = s[left]\n",
    "            # 左移（缩小）窗口\n",
    "            left += 1\n",
    "            # 进行窗口内数据的一系列更新\n",
    "\n",
    "```\n",
    "\n",
    "**滑动窗口算法的快慢指针特性：`left`指针在后，`right`指针在前，两个指针中间的部分就是“窗口”，算法通过扩大和缩小“窗口”来解决某些问题。**"
   ]
  },
  {
   "cell_type": "markdown",
   "metadata": {},
   "source": [
    "##### 左右指针的常用算法\n",
    "\n",
    "1. 二分查找\n",
    "\n",
    "```python\n",
    "def binarySearch(nums, target):\n",
    "    left, right = 0, len(nums)-1\n",
    "    while(left <= right):\n",
    "        mid = (left + right) / 2\n",
    "        if(nums[mid] == target):\n",
    "            return mid\n",
    "        elif(nums[mid] < target):\n",
    "            left = mid + 1\n",
    "        elif(nums[mid] > target):\n",
    "            right = mid - 1\n",
    "    return -1\n",
    "\n",
    "```"
   ]
  },
  {
   "cell_type": "code",
   "execution_count": null,
   "metadata": {},
   "outputs": [],
   "source": []
  },
  {
   "cell_type": "code",
   "execution_count": null,
   "metadata": {},
   "outputs": [],
   "source": []
  }
 ],
 "metadata": {
  "kernelspec": {
   "display_name": "base",
   "language": "python",
   "name": "python3"
  },
  "language_info": {
   "name": "python",
   "version": "3.8.8"
  },
  "orig_nbformat": 4
 },
 "nbformat": 4,
 "nbformat_minor": 2
}
