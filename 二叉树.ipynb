{
 "cells": [
  {
   "cell_type": "markdown",
   "metadata": {},
   "source": [
    "### 二叉树算法总纲\n",
    "\n",
    "思维模式：\n",
    "* 是否可以通过遍历一遍二叉树得到答案？\n",
    "    * 可以：利用一个`traverse`函数配合外部变量来实现。--》遍历的思维模式。\n",
    "* 是否可以定义一个递归函数，通过子问题（子树）的答案推导出原问题的答案？\n",
    "    * 可以：写出递归函数的定义，充分利用这个函数的返回值。--》分解问题的思维模式。\n",
    "\n",
    "> 如果单独抽出一个二叉树节点，它需要做什么事情？需要在什么时候（前/中/后序位置）做？\n",
    "\n",
    "\n",
    "**快速排序就是二叉树的前序遍历。归并排序就是二叉树的后序遍历。**\n",
    "\n",
    "* 快速排序的逻辑：从数组`nums[lo..hi]`中找到一个分界点`p`，通过交换元素使得`nums[lo..p-1]`都小于等于`nums[p]`，且`nums[p+1..hi]`都大于`nums[p]`，然后再递归地去`nums[lo..p-1]`和`nums[p+1..hi]`中寻找新的分界点，最后整个数组就被排序了。\n",
    "\n"
   ]
  },
  {
   "cell_type": "code",
   "execution_count": 1,
   "metadata": {},
   "outputs": [],
   "source": [
    "# 快速排序的代码框架\n",
    "def fast_sort(nums, lo, hi):\n",
    "    # 前序遍历位置\n",
    "    # 通过交换元素构建分界点p\n",
    "    p = partition(nums, lo, hi)\n",
    "\n",
    "\n",
    "    fast_sort(nums, lo, p-1)\n",
    "    fast_sort(nums, p+1, hi)\n",
    "    "
   ]
  },
  {
   "cell_type": "markdown",
   "metadata": {},
   "source": [
    "* 归并排序的逻辑：先对`nums[lo..mid]`排序，在对`nums[mid+1..hi]`排序，最后把这两个有序的子数组合并，整个数组就排好序了。"
   ]
  },
  {
   "cell_type": "code",
   "execution_count": 2,
   "metadata": {},
   "outputs": [],
   "source": [
    "# 归并排序的代码框架\n",
    "def sort_gb(nums, lo, hi):\n",
    "    mid = (lo+hi) / 2\n",
    "    # 排序nums[lo..mid]\n",
    "    sort_gb(nums, lo, mid)\n",
    "    # 排序nums[mid+1..hi]\n",
    "    sort_gb(nums, mid+1, hi)\n",
    "\n",
    "    # 后序位置\n",
    "    # 合并\n",
    "    merge(nums, lo, mid, hi)"
   ]
  },
  {
   "cell_type": "markdown",
   "metadata": {},
   "source": [
    "##### 前中后序遍历\n",
    "\n",
    "* 前中后序是遍历二叉树过程中处理每一个节点的三个特殊时间点。\n",
    "    * 前序位置的代码在刚刚进入一个二叉树节点的时候执行；\n",
    "    * 后序位置的代码在将要离开一个二叉树节点的时候执行；\n",
    "    * 中序位置的代码在一个二叉树节点左子树都遍历完，即将开始遍历右子树的时候执行。"
   ]
  },
  {
   "cell_type": "markdown",
   "metadata": {},
   "source": [
    "##### 以树的视角看动归/回溯/DFS算法的区别和联系\n",
    "\n",
    "* 动归/DFS/回溯算法都可以看做二叉树问题的扩展，只是关注点不同：\n",
    "    * 动态规划算法属于分解问题的思路，关注点在整颗“子树”；\n",
    "    * 回溯算法属于遍历的思路，关注点在节点间的“树枝”；\n",
    "    * DFS算法属于遍历的思路，关注点在单个“节点”。"
   ]
  },
  {
   "cell_type": "code",
   "execution_count": null,
   "metadata": {},
   "outputs": [],
   "source": [
    "# 层次遍历代码\n",
    "\n",
    "def level_traverse(root):\n",
    "    if(root==None):\n",
    "        return\n",
    "    q = []\n",
    "    q.append(root)\n",
    "\n",
    "    #从上到下遍历二叉树的每一层\n",
    "    while(not q):\n",
    "        sz = len(q)\n",
    "        # 从左到右遍历每一层的每个节点\n",
    "        for i in range(sz):\n",
    "            cur = q.pop\n",
    "            #将下一层节点放入队列\n",
    "            if(cur.left != None):\n",
    "                q.append(cur.left)\n",
    "            if(cur.right != None):\n",
    "                q.append(cur.right)\n",
    "          \n"
   ]
  }
 ],
 "metadata": {
  "kernelspec": {
   "display_name": "base",
   "language": "python",
   "name": "python3"
  },
  "language_info": {
   "codemirror_mode": {
    "name": "ipython",
    "version": 3
   },
   "file_extension": ".py",
   "mimetype": "text/x-python",
   "name": "python",
   "nbconvert_exporter": "python",
   "pygments_lexer": "ipython3",
   "version": "3.8.8"
  },
  "orig_nbformat": 4
 },
 "nbformat": 4,
 "nbformat_minor": 2
}
