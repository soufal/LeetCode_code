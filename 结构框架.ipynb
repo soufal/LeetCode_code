{
 "cells": [
  {
   "cell_type": "markdown",
   "metadata": {},
   "source": [
    "### 数据结构的基本操作框架\n",
    "\n",
    "* 主要操作：增删改查\n",
    "* 数据结构的遍历+访问：线性和非线性\n",
    "    * 线性：for/while迭代\n",
    "    * 非线性：递归"
   ]
  },
  {
   "cell_type": "markdown",
   "metadata": {},
   "source": [
    "#### 数组遍历框架，典型的线性迭代结构"
   ]
  },
  {
   "cell_type": "code",
   "execution_count": 1,
   "metadata": {},
   "outputs": [],
   "source": [
    "def traverse(arr):\n",
    "    for i in arr:\n",
    "        print(i)"
   ]
  },
  {
   "cell_type": "code",
   "execution_count": 3,
   "metadata": {},
   "outputs": [
    {
     "name": "stdout",
     "output_type": "stream",
     "text": [
      "1\n",
      "2\n",
      "3\n",
      "4\n",
      "5\n",
      "3\n"
     ]
    }
   ],
   "source": [
    "arr = [1,2,3,4,5,3]\n",
    "traverse(arr)"
   ]
  },
  {
   "cell_type": "markdown",
   "metadata": {},
   "source": [
    "#### 链表遍历框架，兼具迭代和递归结构"
   ]
  },
  {
   "cell_type": "code",
   "execution_count": 5,
   "metadata": {},
   "outputs": [],
   "source": [
    "# 基本的单链表节点\n",
    "class ListNode():\n",
    "    def __init__(self, val):\n",
    "        self.val = val\n",
    "        self.next = None\n",
    "    \n",
    "# 迭代访问p.val\n",
    "def traverse(head: ListNode):\n",
    "    p = head\n",
    "    while head is not None:\n",
    "        print(p.val)\n",
    "        p = p.next\n",
    "\n",
    "# 递归访问head.val\n",
    "def traverse1(head: ListNode):\n",
    "    traverse1(head.next)"
   ]
  },
  {
   "cell_type": "code",
   "execution_count": 4,
   "metadata": {},
   "outputs": [],
   "source": [
    "# 定义链表节点\n",
    "class ListNode:\n",
    "\n",
    "    def __init__(self, val):\n",
    "        self.val = val\n",
    "        self.next = None\n",
    "\n",
    "# 定义链表\n",
    "class MyLinkedList:\n",
    "    def __init__(self):\n",
    "        self.size = 0\n",
    "        self.head = ListNode(0)\n",
    "\n",
    "    # 查询\n",
    "    def get(self, index: int) -> int:\n",
    "        if index < 0 or index >= self.size:\n",
    "            return -1\n",
    "        cur = self.head\n",
    "        for _ in range(index + 1):\n",
    "            cur = cur.next\n",
    "        return cur.val\n",
    "\n",
    "    # head前增加元素\n",
    "    def addAtHead(self, val: int) -> None:\n",
    "        self.addAtIndex(0, val)\n",
    "\n",
    "    # 链表尾部增加元素\n",
    "    def addAtTail(self, val: int) -> None:\n",
    "        self.addAtIndex(self.size, val)\n",
    "\n",
    "    # 指定index插入元素\n",
    "    def addAtIndex(self, index: int, val: int) -> None:\n",
    "        if index > self.size:\n",
    "            return\n",
    "        index = max(0, index)\n",
    "        self.size += 1\n",
    "        pred = self.head\n",
    "        for _ in range(index):\n",
    "            pred = pred.next\n",
    "        to_add = ListNode(val)\n",
    "        to_add.next = pred.next\n",
    "        pred.next = to_add\n",
    "\n",
    "    # 指定index删除元素\n",
    "    def deleteAtIndex(self, index: int) -> None:\n",
    "        if index < 0 or index >= self.size:\n",
    "            return\n",
    "        self.size -= 1\n",
    "        pred = self.head\n",
    "        for _ in range(index):\n",
    "            pred = pred.next\n",
    "        pred.next = pred.next.next\n"
   ]
  },
  {
   "cell_type": "markdown",
   "metadata": {},
   "source": [
    "#### 二叉树遍历框架，典型的非线性递归遍历结构"
   ]
  },
  {
   "cell_type": "code",
   "execution_count": 6,
   "metadata": {},
   "outputs": [],
   "source": [
    "class TreeNode():\n",
    "    def __init__(self, val, left=None, right=None) -> None:\n",
    "        self.val = val\n",
    "        self.left = left\n",
    "        self.right = right\n",
    "\n",
    "def traverse(root: TreeNode):\n",
    "    traverse(root.left)\n",
    "    traverse(root.right)\n",
    "        "
   ]
  },
  {
   "cell_type": "markdown",
   "metadata": {},
   "source": [
    "#### N叉树遍历框架"
   ]
  },
  {
   "cell_type": "code",
   "execution_count": 7,
   "metadata": {},
   "outputs": [],
   "source": [
    "class TreeNode():\n",
    "    def __init__(self, val, children=None) -> None:\n",
    "        self.val = val\n",
    "        self.children = children\n",
    "\n",
    "def traverse(root: TreeNode) -> None:\n",
    "    for child in root.children:\n",
    "        traverse(child)\n",
    "        "
   ]
  },
  {
   "cell_type": "code",
   "execution_count": null,
   "metadata": {},
   "outputs": [],
   "source": []
  }
 ],
 "metadata": {
  "kernelspec": {
   "display_name": "base",
   "language": "python",
   "name": "python3"
  },
  "language_info": {
   "codemirror_mode": {
    "name": "ipython",
    "version": 3
   },
   "file_extension": ".py",
   "mimetype": "text/x-python",
   "name": "python",
   "nbconvert_exporter": "python",
   "pygments_lexer": "ipython3",
   "version": "3.8.8"
  },
  "orig_nbformat": 4
 },
 "nbformat": 4,
 "nbformat_minor": 2
}
